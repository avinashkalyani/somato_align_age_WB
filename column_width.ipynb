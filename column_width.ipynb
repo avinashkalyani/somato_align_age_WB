{
 "cells": [
  {
   "cell_type": "code",
   "execution_count": null,
   "metadata": {},
   "outputs": [],
   "source": [
    "'Calculating the average column size in the segmentation'"
   ]
  },
  {
   "cell_type": "code",
   "execution_count": 1,
   "metadata": {},
   "outputs": [
    {
     "name": "stderr",
     "output_type": "stream",
     "text": [
      "\n",
      "Bad key \"text.kerning_factor\" on line 4 in\n",
      "/Users/akalyani/opt/anaconda3/lib/python3.7/site-packages/matplotlib/mpl-data/stylelib/_classic_test_patch.mplstyle.\n",
      "You probably need to get an updated matplotlibrc file from\n",
      "http://github.com/matplotlib/matplotlib/blob/master/matplotlibrc.template\n",
      "or from the matplotlib source distribution\n"
     ]
    },
    {
     "data": {
      "application/javascript": [
       "IPython.notebook.set_autosave_interval(5000)"
      ]
     },
     "metadata": {},
     "output_type": "display_data"
    },
    {
     "name": "stdout",
     "output_type": "stream",
     "text": [
      "Autosaving every 5 seconds\n"
     ]
    }
   ],
   "source": [
    "import os\n",
    "import runpy\n",
    "import time\n",
    "from os.path import join as pjoin\n",
    "import warnings\n",
    "import glob\n",
    "import sys\n",
    "import csv\n",
    "import pandas as pd\n",
    "if not sys.warnoptions:\n",
    "    warnings.simplefilter(\"ignore\")\n",
    "import numpy as np\n",
    "from scipy import signal\n",
    "from scipy.stats import zscore\n",
    "from nilearn.image import load_img\n",
    "from nilearn.masking import apply_mask\n",
    "import matplotlib.pyplot as plt\n",
    "import re\n",
    "import warnings\n",
    "from scipy import stats\n",
    "import numpy as np\n",
    "from nilearn.image import load_img\n",
    "from sklearn.metrics import confusion_matrix\n",
    "#from brainiak.funcalign.sssrm import SSSRM\n",
    "%autosave 5 \n",
    "%matplotlib inline"
   ]
  },
  {
   "cell_type": "code",
   "execution_count": 2,
   "metadata": {},
   "outputs": [],
   "source": [
    "'loading the path to columnar files'\n",
    "#load labels and subjects\n",
    "\"\"\"importing young \"\"\"\n",
    "\n",
    "with open('/Users/akalyani/Desktop/projects/somato_align/scripts/young_subjects.txt') as inf:\n",
    "    reader = csv.reader(inf, delimiter=\"\\t\")\n",
    "    young = list(zip(*reader))[0]\n",
    "\n",
    "    \n",
    "\"\"\"importing old \"\"\"\n",
    "with open('/Users/akalyani/Desktop/projects/somato_align/scripts/old_subjects.txt') as inf:\n",
    "    reader = csv.reader(inf, delimiter=\"\\t\")\n",
    "    old = list(zip(*reader))[0]\n",
    "    \n",
    "    \n",
    "old = list(old)\n",
    "old.pop(4)\n",
    "young = list(young)\n",
    "young.pop(2)\n",
    "age = [young, old]"
   ]
  },
  {
   "cell_type": "code",
   "execution_count": 3,
   "metadata": {},
   "outputs": [],
   "source": [
    "area = ['BA1','BA2','BA3b']"
   ]
  },
  {
   "cell_type": "code",
   "execution_count": 4,
   "metadata": {},
   "outputs": [],
   "source": [
    "n_cols = (list(np.arange(10,100,10)))\n",
    "n_cols2 =(list(np.arange(100,450,50)))\n",
    "n_cols3 = np.concatenate((n_cols,n_cols2),axis = 0)"
   ]
  },
  {
   "cell_type": "code",
   "execution_count": 92,
   "metadata": {},
   "outputs": [],
   "source": [
    "path_to = '/Volumes/RG_Kuehn/Avinash/cSRM/sense_data'"
   ]
  },
  {
   "cell_type": "code",
   "execution_count": 112,
   "metadata": {},
   "outputs": [],
   "source": [
    "column_number = [60,70,80,90,100]"
   ]
  },
  {
   "cell_type": "code",
   "execution_count": 152,
   "metadata": {},
   "outputs": [],
   "source": [
    "column_size = np.zeros(shape=(3,2,len(n_cols3),19))\n",
    "#stdv = [] #np.zeros(shape=(len(n_cols3), 2, 3 , len(feats)))\n",
    "for col_idx, col in enumerate(column_number):\n",
    "    for age_idx, sub_ids in enumerate(age):\n",
    "        for sub_idx,sub_id in enumerate(sub_ids):\n",
    "            for region_idx, region in enumerate(area):\n",
    "                path_txt = pjoin(path_to,sub_id,'columnar_width/lh_columns_%s%s.txt'%(col,region))\n",
    "                df = pd.read_fwf(path_txt, skiprows = 33)\n",
    "                df.columns  = ['Index' ,'SegId' ,'NVoxels' ,'Volume_mm3' ,'StructName']\n",
    "                mean_volume = df['NVoxels'].mean()\n",
    "                \n",
    "                column_size[region_idx,age_idx,col_idx,sub_idx] = mean_volume \n",
    "                \n",
    "                #!mri_segstats --seg $path_col --sum $path_store\n",
    "                "
   ]
  },
  {
   "cell_type": "code",
   "execution_count": 172,
   "metadata": {},
   "outputs": [
    {
     "data": {
      "text/plain": [
       "44.82748538011696"
      ]
     },
     "execution_count": 172,
     "metadata": {},
     "output_type": "execute_result"
    }
   ],
   "source": [
    "column_size[2,0,3].mean()"
   ]
  },
  {
   "cell_type": "code",
   "execution_count": 171,
   "metadata": {},
   "outputs": [
    {
     "data": {
      "text/plain": [
       "4.775599079505609"
      ]
     },
     "execution_count": 171,
     "metadata": {},
     "output_type": "execute_result"
    }
   ],
   "source": [
    "column_size[2,0,3].std()"
   ]
  }
 ],
 "metadata": {
  "kernelspec": {
   "display_name": "Python 3",
   "language": "python",
   "name": "python3"
  },
  "language_info": {
   "codemirror_mode": {
    "name": "ipython",
    "version": 3
   },
   "file_extension": ".py",
   "mimetype": "text/x-python",
   "name": "python",
   "nbconvert_exporter": "python",
   "pygments_lexer": "ipython3",
   "version": "3.7.4"
  }
 },
 "nbformat": 4,
 "nbformat_minor": 2
}
