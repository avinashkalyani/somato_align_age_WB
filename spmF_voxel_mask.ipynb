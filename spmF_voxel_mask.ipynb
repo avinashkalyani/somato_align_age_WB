{
 "cells": [
  {
   "cell_type": "code",
   "execution_count": 65,
   "metadata": {},
   "outputs": [
    {
     "data": {
      "application/javascript": [
       "IPython.notebook.set_autosave_interval(5000)"
      ]
     },
     "metadata": {},
     "output_type": "display_data"
    },
    {
     "name": "stdout",
     "output_type": "stream",
     "text": [
      "Autosaving every 5 seconds\n"
     ]
    }
   ],
   "source": [
    "import os\n",
    "import runpy\n",
    "import time\n",
    "from os.path import join as pjoin\n",
    "import warnings\n",
    "import sys\n",
    "import csv\n",
    "if not sys.warnoptions:\n",
    "    warnings.simplefilter(\"ignore\")\n",
    "import numpy as np\n",
    "from scipy import signal\n",
    "from scipy.stats import zscore\n",
    "from nilearn.image import load_img\n",
    "from nilearn.masking import apply_mask\n",
    "import matplotlib.pyplot as plt\n",
    "import re\n",
    "%matplotlib inline\n",
    "%autosave 5"
   ]
  },
  {
   "cell_type": "code",
   "execution_count": 3,
   "metadata": {},
   "outputs": [
    {
     "name": "stdout",
     "output_type": "stream",
     "text": [
      "/Users/akalyani/Desktop/sense_map_juli\r\n"
     ]
    }
   ],
   "source": [
    "!pwd"
   ]
  },
  {
   "cell_type": "code",
   "execution_count": 19,
   "metadata": {},
   "outputs": [],
   "source": [
    " ds_dir = '/Users/akalyani/Desktop/sense_map_juli/subjects'"
   ]
  },
  {
   "cell_type": "code",
   "execution_count": 4,
   "metadata": {},
   "outputs": [],
   "source": [
    "def grab_subject_ids(ds_dir='/Users/akalyani/Desktop/sense_map_juli/subjects',\n",
    "                     testsubs=False):\n",
    "    \"\"\"\n",
    "    Get list of all subject IDs.\n",
    "    \"\"\"\n",
    "    import os\n",
    "    import glob\n",
    "    sub_ids = [os.path.basename(subdir) for subdir in glob.glob(ds_dir + '/*')]\n",
    "    if testsubs:\n",
    "        sub_ids = sub_ids[:testsubs]\n",
    "    return sub_ids\n",
    "def path_grabber(roi_glm_workdir='/Users/akalyani/Desktop/sense_map_juli/subjects',\n",
    "                prepped_dsdir='/Users/akalyani/Desktop/sense_map_juli/subjects',\n",
    "                testsubs=False,\n",
    "                excludesubs=()):\n",
    "    \"\"\"\n",
    "    # grab file names for\n",
    "    # filtered bold data and roi masks from roi_glm output\n",
    "    \"\"\"\n",
    "    sub_ids = grab_subject_ids(testsubs=testsubs, ds_dir=prepped_dsdir)\n",
    "    run1_data = []\n",
    "    for sub_id in sub_ids:\n",
    "        sub_dir = pjoin(roi_glm_workdir, sub_id)\n",
    "        # file names for filtered bold files\n",
    "        fname = pjoin(sub_dir, 'blocked_design', 'analyses')\n",
    "        run1_data.append(fname)\n",
    "\n",
    "    return run1_data"
   ]
  },
  {
   "cell_type": "code",
   "execution_count": 16,
   "metadata": {},
   "outputs": [],
   "source": [
    "sub_ids = grab_subject_ids()"
   ]
  },
  {
   "cell_type": "code",
   "execution_count": 139,
   "metadata": {},
   "outputs": [
    {
     "data": {
      "text/plain": [
       "['bmz426', 'clz082', 'aae961', 'ben157']"
      ]
     },
     "execution_count": 139,
     "metadata": {},
     "output_type": "execute_result"
    }
   ],
   "source": [
    "sub_ids"
   ]
  },
  {
   "cell_type": "code",
   "execution_count": 5,
   "metadata": {},
   "outputs": [],
   "source": [
    "F_paths =path_grabber()"
   ]
  },
  {
   "cell_type": "code",
   "execution_count": 6,
   "metadata": {},
   "outputs": [],
   "source": [
    "# convert .img to .nii to be run only once\n",
    "#for path in paths:\n",
    "#    !fslchfiletype NIFTI $path/spmF_0001"
   ]
  },
  {
   "cell_type": "code",
   "execution_count": 7,
   "metadata": {},
   "outputs": [],
   "source": [
    "\"\"\"importing labels\"\"\"\n",
    "\n",
    "\n",
    "with open('/Volumes/Avinash PhD/cSRM/label_list.txt') as inf:\n",
    "    reader = csv.reader(inf, delimiter=\"\\t\")\n",
    "    labels = list(zip(*reader))[0]"
   ]
  },
  {
   "cell_type": "code",
   "execution_count": 15,
   "metadata": {},
   "outputs": [
    {
     "data": {
      "text/plain": [
       "('lh.BA1.label',\n",
       " 'lh.BA2.label',\n",
       " 'lh.BA3a.label',\n",
       " 'lh.BA3b.label',\n",
       " 'lh.BA4a.label',\n",
       " 'lh.BA4p.label',\n",
       " 'lh.BA6.label',\n",
       " 'rh.BA1.label',\n",
       " 'rh.BA2.label',\n",
       " 'rh.BA3a.label',\n",
       " 'rh.BA3b.label',\n",
       " 'rh.BA4a.label',\n",
       " 'rh.BA4p.label',\n",
       " 'rh.BA6.label')"
      ]
     },
     "execution_count": 15,
     "metadata": {},
     "output_type": "execute_result"
    }
   ],
   "source": [
    "labels"
   ]
  },
  {
   "cell_type": "code",
   "execution_count": 8,
   "metadata": {},
   "outputs": [],
   "source": [
    "#load the nifti files 1) labels 2)spmf_files\n",
    "def masks_datagrabber(roi_glm_workdir='/Users/akalyani/Desktop/sense_map_juli/subjects',\n",
    "                prepped_dsdir='/Volumes/Avinash PhD/cSRM/sense_data',\n",
    "                testsubs=False,\n",
    "                sub_ids=True):\n",
    "    \"\"\"\n",
    "    # grab file names for\n",
    "    # filtered bold data and roi masks from roi_glm output\n",
    "    \"\"\"\n",
    "    sub_ids = grab_subject_ids(ds_dir ='/Users/akalyani/Desktop/sense_map_juli/subjects')\n",
    "    #run1_masks, run2_masks= [], []\n",
    "    run1_masks = list(np.zeros(len(sub_ids)))\n",
    "    for indx,sub_id in enumerate(sub_ids):\n",
    "        \n",
    "        mask_dir = pjoin(prepped_dsdir,sub_id,'label_vol')\n",
    "        masks=[]\n",
    "        for lab in labels:\n",
    "            mask_fname = pjoin(mask_dir, '%s.nii' %lab)\n",
    "            masks.append(mask_fname)\n",
    "            \n",
    "        run1_masks[indx]= masks\n",
    "        \n",
    "    return run1_masks"
   ]
  },
  {
   "cell_type": "code",
   "execution_count": 9,
   "metadata": {},
   "outputs": [],
   "source": [
    "label_masks=masks_datagrabber()"
   ]
  },
  {
   "cell_type": "code",
   "execution_count": 18,
   "metadata": {},
   "outputs": [
    {
     "data": {
      "text/plain": [
       "'/Volumes/Avinash PhD/cSRM/sense_data/bmz426/label_vol/lh.BA2.label.nii'"
      ]
     },
     "execution_count": 18,
     "metadata": {},
     "output_type": "execute_result"
    }
   ],
   "source": [
    "label_masks[0][1]"
   ]
  },
  {
   "cell_type": "code",
   "execution_count": 10,
   "metadata": {},
   "outputs": [],
   "source": [
    "F_data=[pjoin(path,'spmF_0001.nii.gz') for path in F_paths]"
   ]
  },
  {
   "cell_type": "code",
   "execution_count": 37,
   "metadata": {},
   "outputs": [],
   "source": [
    "#apply mask fslmultiply -> subject wise then check the output \n",
    "#if doesn't work then use apply mask, then convert back to nifti space "
   ]
  },
  {
   "cell_type": "code",
   "execution_count": 13,
   "metadata": {},
   "outputs": [
    {
     "data": {
      "text/plain": [
       "['/Users/akalyani/Desktop/sense_map_juli/subjects/bmz426/blocked_design/analyses',\n",
       " '/Users/akalyani/Desktop/sense_map_juli/subjects/clz082/blocked_design/analyses',\n",
       " '/Users/akalyani/Desktop/sense_map_juli/subjects/aae961/blocked_design/analyses',\n",
       " '/Users/akalyani/Desktop/sense_map_juli/subjects/ben157/blocked_design/analyses']"
      ]
     },
     "execution_count": 13,
     "metadata": {},
     "output_type": "execute_result"
    }
   ],
   "source": [
    "F_paths"
   ]
  },
  {
   "cell_type": "code",
   "execution_count": 11,
   "metadata": {},
   "outputs": [
    {
     "data": {
      "text/plain": [
       "['/Users/akalyani/Desktop/sense_map_juli/subjects/bmz426/blocked_design/analyses/spmF_0001.nii.gz',\n",
       " '/Users/akalyani/Desktop/sense_map_juli/subjects/clz082/blocked_design/analyses/spmF_0001.nii.gz',\n",
       " '/Users/akalyani/Desktop/sense_map_juli/subjects/aae961/blocked_design/analyses/spmF_0001.nii.gz',\n",
       " '/Users/akalyani/Desktop/sense_map_juli/subjects/ben157/blocked_design/analyses/spmF_0001.nii.gz']"
      ]
     },
     "execution_count": 11,
     "metadata": {},
     "output_type": "execute_result"
    }
   ],
   "source": [
    "F_data"
   ]
  },
  {
   "cell_type": "code",
   "execution_count": 39,
   "metadata": {},
   "outputs": [],
   "source": [
    "#THIS CELL TO BE RUN ONLY ONCE\n",
    "# fslmaths input.nii.gz -mas mask.nii.gz out_label.nii.gz\n",
    "for sub_idx,sub_id in enumerate(sub_ids):\n",
    "    inp = F_data[sub_idx]\n",
    "    out_path = pjoin(ds_dir,sub_id,'blocked_design/masked_labels')\n",
    "    isExist = os.path.exists(out_path)\n",
    "    if not isExist:\n",
    "        os.makedirs(out_path)\n",
    "        print(\"the masked_label directory is created\")\n",
    "    for m in range(14):\n",
    "        mas = (label_masks[sub_idx][m])\n",
    "        mask = \"'%s'\"%(mas)\n",
    "        out_name = labels[m]\n",
    "        out = pjoin(out_path,out_name)\n",
    "        !fslmaths $inp -mas $mask $out\n",
    "print('all DONE! MASKS EXTRACTED')       \n",
    "        "
   ]
  },
  {
   "cell_type": "code",
   "execution_count": 167,
   "metadata": {},
   "outputs": [],
   "source": [
    "#NOW thresholding and creating the binary mask \n",
    "# 1) number of Voxels \n",
    "# fslstats lh.BA2.label.nii.gz -V\n",
    "all_sub_vox =[]\n",
    "for sub_idx,sub_id in enumerate(sub_ids):\n",
    "    inp = F_data[sub_idx]\n",
    "    out_path = pjoin(ds_dir,sub_id,'blocked_design/masked_labels') \n",
    "    voxels = []\n",
    "    for m in range(14):\n",
    "        out_name = labels[m]\n",
    "        out = pjoin(out_path,out_name+'.nii.gz')\n",
    "        voxel = !fslstats $out -V\n",
    "        #voxel is in list format so we form string first then split then take the first set of values\n",
    "        a=''.join(voxel)\n",
    "        s = []\n",
    "        for t in a.split():\n",
    "            try :\n",
    "                s.append(float(t))\n",
    "            except ValueError:\n",
    "                pass\n",
    "        \n",
    "        # making a mask for the first significant 300 voxels\n",
    "        prop = 500/s[0]\n",
    "        per = 100-100*prop\n",
    "        thresh = !fslstats $out -a -P $per\n",
    "        \n",
    "         #voxel is in list format so we form string first then split then take the first set of values\n",
    "        th=''.join(thresh)\n",
    "        threshold = []\n",
    "        for t in th.split():\n",
    "            try :\n",
    "                threshold.append(float(t))\n",
    "            except ValueError:\n",
    "                pass\n",
    "        TH = threshold[0]  \n",
    "        bin_name = pjoin(out_path,out_name+'_bined.nii.gz')\n",
    "        !fslmaths $out -thr $TH -bin $bin_name\n",
    "        voxels.append(s[0])\n",
    "       \n",
    "        \n",
    "    all_sub_vox.append(voxels)\n"
   ]
  },
  {
   "cell_type": "code",
   "execution_count": 169,
   "metadata": {},
   "outputs": [],
   "source": [
    "n = np.min(all_sub_vox)"
   ]
  },
  {
   "cell_type": "code",
   "execution_count": 174,
   "metadata": {},
   "outputs": [
    {
     "data": {
      "text/plain": [
       "[2538.0,\n",
       " 3012.0,\n",
       " 507.0,\n",
       " 1806.0,\n",
       " 6568.0,\n",
       " 2402.0,\n",
       " 8721.0,\n",
       " 2696.0,\n",
       " 3312.0,\n",
       " 754.0,\n",
       " 2041.0,\n",
       " 6711.0,\n",
       " 2851.0,\n",
       " 10017.0]"
      ]
     },
     "execution_count": 174,
     "metadata": {},
     "output_type": "execute_result"
    }
   ],
   "source": [
    "all_sub_vox[3]"
   ]
  },
  {
   "cell_type": "code",
   "execution_count": null,
   "metadata": {},
   "outputs": [],
   "source": [
    "#checking for the whole brain fstat- as we want same number of voxels in our analysis, maybe 1000-2000 voxels\n"
   ]
  }
 ],
 "metadata": {
  "kernelspec": {
   "display_name": "Python 3",
   "language": "python",
   "name": "python3"
  },
  "language_info": {
   "codemirror_mode": {
    "name": "ipython",
    "version": 3
   },
   "file_extension": ".py",
   "mimetype": "text/x-python",
   "name": "python",
   "nbconvert_exporter": "python",
   "pygments_lexer": "ipython3",
   "version": "3.7.4"
  }
 },
 "nbformat": 4,
 "nbformat_minor": 2
}
