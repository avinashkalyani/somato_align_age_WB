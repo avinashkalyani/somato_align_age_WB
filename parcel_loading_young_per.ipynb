{
 "cells": [
  {
   "cell_type": "code",
   "execution_count": 1,
   "metadata": {},
   "outputs": [
    {
     "data": {
      "application/javascript": [
       "IPython.notebook.set_autosave_interval(5000)"
      ]
     },
     "metadata": {},
     "output_type": "display_data"
    },
    {
     "name": "stdout",
     "output_type": "stream",
     "text": [
      "Autosaving every 5 seconds\n"
     ]
    }
   ],
   "source": [
    "import warnings\n",
    "import sys \n",
    "if not sys.warnoptions:\n",
    "    warnings.simplefilter(\"ignore\")\n",
    "import os \n",
    "import glob\n",
    "from scipy import stats\n",
    "import time\n",
    "from copy import deepcopy\n",
    "import numpy as np\n",
    "import pandas as pd \n",
    "from os.path import join as pjoin\n",
    "from nilearn import datasets, image\n",
    "from nilearn import surface\n",
    "from nilearn import plotting\n",
    "from nilearn.image import load_img\n",
    "from brainiak.funcalign.srm import SRM\n",
    "from nilearn.masking import apply_mask, unmask\n",
    "from nilearn.input_data import NiftiMasker, NiftiLabelsMasker,NiftiMapsMasker\n",
    "import nibabel as nib\n",
    "import pickle\n",
    "import csv\n",
    "import time\n",
    "from scipy import signal\n",
    "#from brainiak import image, io\n",
    "from brainiak.isc import isc, isfc, permutation_isc\n",
    "import matplotlib.pyplot as plt\n",
    "import seaborn as sns \n",
    "from brainiak.fcma.util import compute_correlation\n",
    "from sklearn.svm import NuSVC\n",
    "from sklearn.metrics import confusion_matrix\n",
    "%autosave 5\n",
    "%matplotlib inline"
   ]
  },
  {
   "cell_type": "code",
   "execution_count": 2,
   "metadata": {},
   "outputs": [],
   "source": [
    "\"\"\"for all the subjects\"\"\"\n",
    "def grab_subject_ids(ds_dir,testsubs=False):\n",
    "    \"\"\"\n",
    "    Get list of all subject IDs.\n",
    "    \"\"\"\n",
    "    import os\n",
    "    import glob\n",
    "    sub_ids = [os.path.basename(subdir) for subdir in glob.glob(ds_dir + '/*')]\n",
    "    if testsubs:\n",
    "        sub_ids = sub_ids[:testsubs]\n",
    "    return sub_ids\n",
    "def datagrabber(roi_glm_workdir='/Volumes/Avinash PhD/cSRM/sense_data',\n",
    "                prepped_dsdir='/Volumes/Avinash PhD/cSRM/sense_data',\n",
    "                testsubs=False,\n",
    "                sub_ids=True):\n",
    "    \"\"\"\n",
    "    # grab file names for\n",
    "    # filtered bold data and roi masks from roi_glm output\n",
    "    \"\"\"\n",
    "    sub_ids = grab_subject_ids(ds_dir ='/Volumes/Avinash PhD/somato_align/age/old')\n",
    "    sub_ids.remove('yhx875')\n",
    "    run1_data, run2_data = [], []\n",
    "    #run1_masks, run2_masks= [], []\n",
    "    run1_masks = list(np.zeros(len(sub_ids)))\n",
    "    for indx,sub_id in enumerate(sub_ids):\n",
    "        fname = pjoin(roi_glm_workdir, sub_id, 'coreg1.nii.gz')\n",
    "        fname2 = pjoin(roi_glm_workdir, sub_id, 'coreg2.nii.gz')\n",
    "        mask_dir = pjoin(prepped_dsdir,sub_id,'label_vol')\n",
    "        masks=[]\n",
    "        for lab in labels:\n",
    "            mask_fname = pjoin(mask_dir, '%s.nii' %lab)\n",
    "            masks.append(mask_fname)\n",
    "            \n",
    "        run1_data.append(fname)\n",
    "        run2_data.append(fname2)\n",
    "        run1_masks[indx]= masks\n",
    "        \n",
    "    return run1_data, run2_data, run1_masks, sub_ids"
   ]
  },
  {
   "cell_type": "code",
   "execution_count": 3,
   "metadata": {},
   "outputs": [],
   "source": [
    "\"\"\"importing labels\"\"\"\n",
    "\n",
    "\n",
    "with open('/Volumes/Avinash PhD/cSRM/label_list.txt') as inf:\n",
    "    reader = csv.reader(inf, delimiter=\"\\t\")\n",
    "    labels = list(zip(*reader))[0]"
   ]
  },
  {
   "cell_type": "code",
   "execution_count": 4,
   "metadata": {},
   "outputs": [
    {
     "data": {
      "text/plain": [
       "('lh.BA1.label',\n",
       " 'lh.BA2.label',\n",
       " 'lh.BA3a.label',\n",
       " 'lh.BA3b.label',\n",
       " 'lh.BA4a.label',\n",
       " 'lh.BA4p.label',\n",
       " 'lh.BA6.label',\n",
       " 'rh.BA1.label',\n",
       " 'rh.BA2.label',\n",
       " 'rh.BA3a.label',\n",
       " 'rh.BA3b.label',\n",
       " 'rh.BA4a.label',\n",
       " 'rh.BA4p.label',\n",
       " 'rh.BA6.label')"
      ]
     },
     "execution_count": 4,
     "metadata": {},
     "output_type": "execute_result"
    }
   ],
   "source": [
    "labels"
   ]
  },
  {
   "cell_type": "code",
   "execution_count": 5,
   "metadata": {},
   "outputs": [],
   "source": [
    "#sub_ids = grab_subject_ids(ds_dir ='/media/predator/Avinash PhD1/somato_align/age/young')\n",
    "run1_data, run2_data, run1_masks , sub_ids=datagrabber()"
   ]
  },
  {
   "cell_type": "code",
   "execution_count": null,
   "metadata": {},
   "outputs": [],
   "source": [
    "np.asarray(run1_masks).shape"
   ]
  },
  {
   "cell_type": "code",
   "execution_count": null,
   "metadata": {},
   "outputs": [],
   "source": [
    "masks = run1_masks[1]"
   ]
  },
  {
   "cell_type": "code",
   "execution_count": null,
   "metadata": {},
   "outputs": [],
   "source": [
    "masks[1]"
   ]
  },
  {
   "cell_type": "code",
   "execution_count": null,
   "metadata": {},
   "outputs": [],
   "source": [
    "sub_ids\n"
   ]
  },
  {
   "cell_type": "code",
   "execution_count": null,
   "metadata": {},
   "outputs": [],
   "source": [
    "\"\"\"only for run1 data: \n",
    "load the labels in an array corresponding to lists, and also match the affine\"\"\"\n",
    "start_time = time.time()\n",
    "all_labels2 = list(np.zeros(len(sub_ids)))\n",
    "for ids,sub in enumerate(sub_ids):\n",
    "    brain =nib.load(run1_data[ids])\n",
    "    masks = run1_masks[ids]\n",
    "    label_arrs = list(np.zeros(14))\n",
    "    mas = masks[1]\n",
    "    atlas_map = nib.load(mas)\n",
    "    br2 = image.resample_to_img(brain,atlas_map)\n",
    "    for ind,mask in enumerate(masks):\n",
    "        #atlas_map = nib.load(mask)\n",
    "        #br2 = image.resample_to_img(brain,atlas_map)\n",
    "        label_arrs[ind] = apply_mask(br2, mask_img=mask)\n",
    "    all_labels2[ids] = label_arrs \n",
    "    \n",
    "seconds = time.time() - start_time\n",
    "print('Time Taken:', time.strftime(\"%H:%M:%S\",time.gmtime(seconds)))\n"
   ]
  },
  {
   "cell_type": "code",
   "execution_count": null,
   "metadata": {},
   "outputs": [],
   "source": [
    "mask = run1_masks[1][3]"
   ]
  },
  {
   "cell_type": "code",
   "execution_count": null,
   "metadata": {},
   "outputs": [],
   "source": [
    "brain = run1_data[1]"
   ]
  },
  {
   "cell_type": "code",
   "execution_count": null,
   "metadata": {},
   "outputs": [],
   "source": [
    "mask"
   ]
  },
  {
   "cell_type": "code",
   "execution_count": null,
   "metadata": {},
   "outputs": [],
   "source": [
    "atlas_map = nib.load(mask)\n",
    "br2 = image.resample_to_img(brain,atlas_map)"
   ]
  },
  {
   "cell_type": "code",
   "execution_count": null,
   "metadata": {},
   "outputs": [],
   "source": [
    "nib.save(br2, 'resampled.nii')"
   ]
  },
  {
   "cell_type": "code",
   "execution_count": null,
   "metadata": {},
   "outputs": [],
   "source": [
    "os.system('spd-say \"fuck you\"')"
   ]
  },
  {
   "cell_type": "code",
   "execution_count": null,
   "metadata": {},
   "outputs": [],
   "source": [
    "with open('all_sub_labels_run1_coreg_per_old.pkl', 'wb') as f:\n",
    "    pickle.dump(all_labels2, f)"
   ]
  },
  {
   "cell_type": "code",
   "execution_count": 7,
   "metadata": {},
   "outputs": [
    {
     "name": "stdout",
     "output_type": "stream",
     "text": [
      "Time Taken: 01:54:12\n"
     ]
    }
   ],
   "source": [
    "\"\"\"only for run2 data: \n",
    "load the labels in an array corresponding to lists, and also match the affine\"\"\"\n",
    "start_time = time.time()\n",
    "all_labels2 = list(np.zeros(len(sub_ids)))\n",
    "for ids,sub in enumerate(sub_ids):\n",
    "    brain =nib.load(run2_data[ids])\n",
    "    masks = run1_masks[ids]\n",
    "    label_arrs = list(np.zeros(14))\n",
    "    mas = masks[1]\n",
    "    atlas_map = nib.load(mas)\n",
    "    br2 = image.resample_to_img(brain,atlas_map)\n",
    "    for ind,mask in enumerate(masks):\n",
    "        #atlas_map = nib.load(mask)\n",
    "        #br2 = image.resample_to_img(brain,atlas_map)\n",
    "        label_arrs[ind] = apply_mask(br2, mask_img=mask)\n",
    "    all_labels2[ids] = label_arrs\n",
    "    \n",
    "seconds = time.time() - start_time\n",
    "print('Time Taken:', time.strftime(\"%H:%M:%S\",time.gmtime(seconds)))\n",
    "\n"
   ]
  },
  {
   "cell_type": "code",
   "execution_count": null,
   "metadata": {},
   "outputs": [],
   "source": [
    "label_arrs[13].shape"
   ]
  },
  {
   "cell_type": "code",
   "execution_count": null,
   "metadata": {},
   "outputs": [],
   "source": [
    "labels"
   ]
  },
  {
   "cell_type": "code",
   "execution_count": null,
   "metadata": {},
   "outputs": [],
   "source": [
    "mask"
   ]
  },
  {
   "cell_type": "code",
   "execution_count": null,
   "metadata": {},
   "outputs": [],
   "source": [
    "unm_try=unmask(X=label_arrs[13], mask_img=mask, order='F')"
   ]
  },
  {
   "cell_type": "code",
   "execution_count": null,
   "metadata": {},
   "outputs": [],
   "source": [
    "unm_try.orthoview()"
   ]
  },
  {
   "cell_type": "code",
   "execution_count": null,
   "metadata": {},
   "outputs": [],
   "source": [
    "os.system('spd-say \"fuck you\"')"
   ]
  },
  {
   "cell_type": "code",
   "execution_count": 8,
   "metadata": {},
   "outputs": [],
   "source": [
    "with open('all_sub_labels_run2_coreg_per_old.pkl', 'wb') as f:\n",
    "    pickle.dump(all_labels2, f)"
   ]
  },
  {
   "cell_type": "code",
   "execution_count": null,
   "metadata": {},
   "outputs": [],
   "source": []
  }
 ],
 "metadata": {
  "kernelspec": {
   "display_name": "Python 3",
   "language": "python",
   "name": "python3"
  },
  "language_info": {
   "codemirror_mode": {
    "name": "ipython",
    "version": 3
   },
   "file_extension": ".py",
   "mimetype": "text/x-python",
   "name": "python",
   "nbconvert_exporter": "python",
   "pygments_lexer": "ipython3",
   "version": "3.7.4"
  }
 },
 "nbformat": 4,
 "nbformat_minor": 4
}
